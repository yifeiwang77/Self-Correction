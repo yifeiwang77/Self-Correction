{
 "cells": [
  {
   "cell_type": "code",
   "execution_count": 1,
   "metadata": {},
   "outputs": [
    {
     "name": "stdout",
     "output_type": "stream",
     "text": [
      "Processed Age.jsonl, selected 100 lines with 'context_condition'='ambig'.\n",
      "Processed Disability_status.jsonl, selected 100 lines with 'context_condition'='ambig'.\n",
      "Processed Gender_identity.jsonl, selected 100 lines with 'context_condition'='ambig'.\n",
      "Processed Nationality.jsonl, selected 100 lines with 'context_condition'='ambig'.\n",
      "Processed Physical_appearance.jsonl, selected 100 lines with 'context_condition'='ambig'.\n",
      "Processed Race_ethnicity.jsonl, selected 100 lines with 'context_condition'='ambig'.\n",
      "Processed Race_x_SES.jsonl, selected 100 lines with 'context_condition'='ambig'.\n",
      "Processed Race_x_gender.jsonl, selected 100 lines with 'context_condition'='ambig'.\n",
      "Processed Religion.jsonl, selected 100 lines with 'context_condition'='ambig'.\n",
      "Processed SES.jsonl, selected 100 lines with 'context_condition'='ambig'.\n",
      "Processed Sexual_orientation.jsonl, selected 100 lines with 'context_condition'='ambig'.\n"
     ]
    }
   ],
   "source": [
    "import os\n",
    "import json\n",
    "import random\n",
    "\n",
    "def process_jsonl_files(directory, sample_size=100):\n",
    "    # 获取当前文件夹中的所有.jsonl文件\n",
    "    files = [f for f in os.listdir(directory) if f.endswith('.jsonl')]\n",
    "    \n",
    "    for file in files:\n",
    "        file_path = os.path.join(directory, file)\n",
    "        \n",
    "        with open(file_path, 'r', encoding='utf-8') as f:\n",
    "            lines = f.readlines()\n",
    "        \n",
    "        # 过滤出 \"context_condition\" = \"ambig\" 的记录\n",
    "        ambig_lines = [line for line in lines if json.loads(line).get(\"context_condition\") == \"ambig\"]\n",
    "        \n",
    "        if len(ambig_lines) <= sample_size:\n",
    "            print(f\"{file} contains less than or equal to {sample_size} lines with 'context_condition'='ambig'. Skipping...\")\n",
    "            continue\n",
    "\n",
    "        # 随机选取sample_size条记录\n",
    "        sampled_lines = random.sample(ambig_lines, sample_size)\n",
    "        \n",
    "        # 写入子文件，覆盖源文件\n",
    "        with open(file_path, 'w', encoding='utf-8') as f:\n",
    "            f.writelines(sampled_lines)\n",
    "        \n",
    "        print(f\"Processed {file}, selected {sample_size} lines with 'context_condition'='ambig'.\")\n",
    "\n",
    "# 当前文件夹路径\n",
    "current_directory = os.getcwd()\n",
    "\n",
    "# 处理所有.jsonl文件\n",
    "process_jsonl_files(current_directory)\n"
   ]
  },
  {
   "cell_type": "code",
   "execution_count": null,
   "metadata": {},
   "outputs": [],
   "source": []
  }
 ],
 "metadata": {
  "kernelspec": {
   "display_name": "Python 3 (ipykernel)",
   "language": "python",
   "name": "python3"
  },
  "language_info": {
   "codemirror_mode": {
    "name": "ipython",
    "version": 3
   },
   "file_extension": ".py",
   "mimetype": "text/x-python",
   "name": "python",
   "nbconvert_exporter": "python",
   "pygments_lexer": "ipython3",
   "version": "3.10.12"
  }
 },
 "nbformat": 4,
 "nbformat_minor": 4
}
